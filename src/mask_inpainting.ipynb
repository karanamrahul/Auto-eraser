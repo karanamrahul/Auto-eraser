{
 "cells": [
  {
   "cell_type": "code",
   "execution_count": 2,
   "metadata": {},
   "outputs": [
    {
     "name": "stdout",
     "output_type": "stream",
     "text": [
      "fatal: destination path 'lama' already exists and is not an empty directory.\n"
     ]
    },
    {
     "name": "stderr",
     "output_type": "stream",
     "text": [
      "UsageError: Line magic function `%` not found.\n"
     ]
    }
   ],
   "source": [
    "# Cloneing the repo\n",
    "!git clone https://github.com/saic-mdal/lama.git\n",
    "\n",
    "# installing the dependencies\n",
    "!pip install -r lama/requirements.txt --quiet\n",
    "!pip install wget --quiet\n",
    "\n",
    "# change the directory\n",
    "% cd /content/lama\n",
    "\n",
    "# Download the model\n",
    "!curl -L $(yadisk-direct https://disk.yandex.ru/d/ouP6l8VJ0HpMZg) -o big-lama.zip\n",
    "!unzip big-lama.zip\n",
    "\n",
    "# Importing dependecies\n",
    "import base64, os\n",
    "from IPython.display import HTML, Image\n",
    "from google.colab.output import eval_js\n",
    "from base64 import b64decode\n",
    "import matplotlib.pyplot as plt\n",
    "import numpy as np\n",
    "import wget\n",
    "from shutil import copyfile\n",
    "import shutil"
   ]
  },
  {
   "cell_type": "code",
   "execution_count": 3,
   "metadata": {},
   "outputs": [],
   "source": [
    "fname = None"
   ]
  },
  {
   "cell_type": "code",
   "execution_count": null,
   "metadata": {},
   "outputs": [],
   "source": [
    "#@title Show a masked image and save a mask\n",
    "import matplotlib.pyplot as plt\n",
    "plt.rcParams[\"figure.figsize\"] = (15,5)\n",
    "plt.rcParams['figure.dpi'] = 200\n",
    "plt.subplot(131)\n",
    "with_mask = np.array(plt.imread()[:,:,:3])\n",
    "mask = (with_mask[:,:,0]==1)*(with_mask[:,:,1]==0)*(with_mask[:,:,2]==0)\n",
    "plt.imshow(mask, cmap='gray')\n",
    "plt.axis('off')\n",
    "plt.title('mask')\n",
    "plt.imsave(f\"./{fname.split('.')[1]}_mask.png\",mask, cmap='gray')\n",
    "\n",
    "plt.subplot(132)\n",
    "img = np.array(plt.imread(f'{fname}')[:,:,:3])\n",
    "plt.imshow(img)\n",
    "plt.axis('off')\n",
    "plt.title('img')\n",
    "\n",
    "plt.subplot(133)\n",
    "img = np.array((1-mask.reshape(mask.shape[0], mask.shape[1], -1))*plt.imread(fname)[:,:,:3])\n",
    "_=plt.imshow(img)\n",
    "_=plt.axis('off')\n",
    "_=plt.title('img * mask')\n",
    "plt.show()\n"
   ]
  }
 ],
 "metadata": {
  "interpreter": {
   "hash": "2d25894962cc45d36a4787d83517f45f33c14c0a39a61bf62293b973e9369696"
  },
  "kernelspec": {
   "display_name": "Python 3.9.7 ('auto-lama')",
   "language": "python",
   "name": "python3"
  },
  "language_info": {
   "codemirror_mode": {
    "name": "ipython",
    "version": 3
   },
   "file_extension": ".py",
   "mimetype": "text/x-python",
   "name": "python",
   "nbconvert_exporter": "python",
   "pygments_lexer": "ipython3",
   "version": "3.9.7"
  },
  "orig_nbformat": 4
 },
 "nbformat": 4,
 "nbformat_minor": 2
}
